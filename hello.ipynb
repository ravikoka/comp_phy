{
 "cells": [
  {
   "cell_type": "markdown",
   "metadata": {},
   "source": [
    "# Getting Situated\n",
    "\n",
    "I've made the conda environment `hwenv` for my cphy files. This was created with both miniconda and micromamba because miniconda was taking forever to solve. "
   ]
  },
  {
   "cell_type": "code",
   "execution_count": 1,
   "metadata": {},
   "outputs": [
    {
     "name": "stdout",
     "output_type": "stream",
     "text": [
      "hello world\n"
     ]
    }
   ],
   "source": [
    "print('hello world')"
   ]
  },
  {
   "cell_type": "markdown",
   "metadata": {},
   "source": [
    "## list comprehensions"
   ]
  },
  {
   "cell_type": "code",
   "execution_count": 7,
   "metadata": {},
   "outputs": [
    {
     "name": "stdout",
     "output_type": "stream",
     "text": [
      "first lambda: 25\n",
      "second lambda: 8\n",
      "third lambda: 20\n",
      "double 5 is 10\n"
     ]
    }
   ],
   "source": [
    "# lambda functions are anonymous functions (ie. no name) that can have any number of arguments \n",
    "# but only one expression which is evaluated and returned. \n",
    "\n",
    "f = lambda x: x**2\n",
    "print(f'first lambda: {f(5)}')\n",
    "\n",
    "g = lambda a, b: a * b\n",
    "print(f'second lambda: {g(2, 4)}')\n",
    "\n",
    "max = lambda a, b: a if (a > b) else b\n",
    "print(f'third lambda: {max(20, 1)}')\n",
    "\n",
    "def scaler(n):\n",
    "    return lambda x: n * x\n",
    "doubler = scaler(2)\n",
    "b = 5\n",
    "print(f'double {b} is {doubler(b)}')"
   ]
  },
  {
   "cell_type": "code",
   "execution_count": 14,
   "metadata": {},
   "outputs": [
    {
     "name": "stdout",
     "output_type": "stream",
     "text": [
      "list: [0, 1, 2, 3, 4, 5, 6, 7, 8, 9]\n",
      "<map object at 0x11323faf0>\n",
      "0\n",
      "3\n",
      "6\n",
      "9\n",
      "12\n",
      "15\n",
      "18\n",
      "21\n",
      "24\n",
      "27\n",
      "new list: []\n"
     ]
    }
   ],
   "source": [
    "# map returns a map object (an iterator) of the results of applying a function to each item of a given iterable\n",
    "\n",
    "def triple(x):\n",
    "    return 3 * x\n",
    "l = [i for i in range(10)]\n",
    "print(f'list: {l}')\n",
    "\n",
    "l = map(triple, l)\n",
    "print(l)\n",
    "\n",
    "for x in l: \n",
    "    print(x)\n",
    "\n",
    "print(f'new list: {list(l)}')\n",
    "\n"
   ]
  },
  {
   "cell_type": "code",
   "execution_count": 2,
   "metadata": {},
   "outputs": [
    {
     "name": "stdout",
     "output_type": "stream",
     "text": [
      "[0, 1, 4, 9, 16, 25, 36, 49, 64, 81]\n"
     ]
    }
   ],
   "source": [
    "# Map\n",
    "a = [0, 1, 2, 3, 4, 5, 6, 7, 8, 9]\n",
    "a = list(map(lambda x: x ** 2, a))\n",
    "print(a)"
   ]
  },
  {
   "cell_type": "code",
   "execution_count": 15,
   "metadata": {},
   "outputs": [
    {
     "name": "stdout",
     "output_type": "stream",
     "text": [
      "[0, 4, 16, 36, 64]\n"
     ]
    }
   ],
   "source": [
    "# Map with filter\n",
    "a = [0, 1, 2, 3, 4, 5, 6, 7, 8, 9]\n",
    "a = list(map(\n",
    "    lambda x: x ** 2,\n",
    "    filter(lambda x: x % 2 == 0, a)\n",
    "))\n",
    "print(a)"
   ]
  },
  {
   "cell_type": "code",
   "execution_count": null,
   "metadata": {},
   "outputs": [],
   "source": []
  }
 ],
 "metadata": {
  "kernelspec": {
   "display_name": "hwenv",
   "language": "python",
   "name": "python3"
  },
  "language_info": {
   "codemirror_mode": {
    "name": "ipython",
    "version": 3
   },
   "file_extension": ".py",
   "mimetype": "text/x-python",
   "name": "python",
   "nbconvert_exporter": "python",
   "pygments_lexer": "ipython3",
   "version": "3.11.4"
  },
  "orig_nbformat": 4
 },
 "nbformat": 4,
 "nbformat_minor": 2
}
